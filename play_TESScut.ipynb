{
 "cells": [
  {
   "cell_type": "code",
   "execution_count": 1,
   "metadata": {},
   "outputs": [
    {
     "name": "stderr",
     "output_type": "stream",
     "text": [
      "WARNING: AstropyDeprecationWarning: astropy.extern.six will be removed in 4.0, use the six module directly if it is still needed [astropy.extern.six]\n",
      "WARNING: AstropyDeprecationWarning: Composition of model classes will be removed in 4.0 (but composition of model instances is not affected) [astropy.modeling.core]\n"
     ]
    }
   ],
   "source": [
    "import numpy as np\n",
    "import matplotlib.pyplot as plt\n",
    "import eleanor\n",
    "from astropy.timeseries import BoxLeastSquares\n",
    "import pandas as pd\n",
    "from scipy.signal import savgol_filter\n",
    "from dave.tessPipeline.tessmastio import TessAstroqueryArchive\n",
    "import dave.fileio.tpf as tpf\n",
    "import requests\n",
    "from astroquery.mast import Tesscut\n",
    "from astroquery.mast import Catalogs\n",
    "from astropy.coordinates import SkyCoord\n",
    "\n",
    "from lightkurve import LightCurve\n",
    "from lightkurve import periodogram\n",
    "\n",
    "%matplotlib inline"
   ]
  },
  {
   "cell_type": "code",
   "execution_count": 2,
   "metadata": {},
   "outputs": [],
   "source": [
    "#eleanor.__version__"
   ]
  },
  {
   "cell_type": "code",
   "execution_count": 3,
   "metadata": {},
   "outputs": [],
   "source": [
    "sectors_LC = [13]#[1, 3, 4, 5, 6, 7, 8, 9]#[13]#[3, 6, 10]#,3,4,5,6,7,8,9,10,11]\n",
    "sectors_SC = [7,8,9]#[6, 10]#[4,5,6,7,8,9,10,11]\n",
    "tic_ = 260128333#150428135#260128333#70763084#35655828#"
   ]
  },
  {
   "cell_type": "code",
   "execution_count": 4,
   "metadata": {},
   "outputs": [],
   "source": [
    "localPath = \"/Users/vkostov/.eleanor\"\n",
    "ar = TessAstroqueryArchive(localPath)\n",
    "detrending_ = 'PDCSAP_FLUX'#'PDCSAP_FLUX'\n",
    "\n",
    "planetNum = 1"
   ]
  },
  {
   "cell_type": "code",
   "execution_count": 5,
   "metadata": {},
   "outputs": [],
   "source": [
    "def get_catalog_info(tic_id):\n",
    "    cols = ['ID', 'ra', 'dec', 'Tmag', 'Vmag', 'Teff', 'logg', 'lumclass', 'rad', 'e_rad', 'mass', 'numcont', 'contratio']\n",
    "    catalogData = Catalogs.query_object('TIC' + str(tic_id), radius = 0.002, catalog=\"TIC\", pagesize=1).to_pandas()\n",
    "    catalogData.ID = catalogData.ID.astype(int)\n",
    "    catalogData = catalogData[catalogData.ID == tic_id]\n",
    "    return catalogData[cols]"
   ]
  },
  {
   "cell_type": "code",
   "execution_count": 6,
   "metadata": {},
   "outputs": [],
   "source": [
    "aa = get_catalog_info(tic_)"
   ]
  },
  {
   "cell_type": "code",
   "execution_count": 7,
   "metadata": {},
   "outputs": [
    {
     "name": "stdout",
     "output_type": "stream",
     "text": [
      "92.1331996217219 -59.5411333817205\n",
      "<SkyCoord (ICRS): (ra, dec) in deg\n",
      "    (92.13319962, -59.54113338)>\n"
     ]
    }
   ],
   "source": [
    "ra_ = aa.ra[0]\n",
    "dec_ = aa.dec[0]\n",
    "\n",
    "print(ra_, dec_)\n",
    "\n",
    "obj_coord = SkyCoord(ra_,dec_,unit=\"deg\")\n",
    "print(obj_coord)"
   ]
  },
  {
   "cell_type": "code",
   "execution_count": 11,
   "metadata": {},
   "outputs": [
    {
     "data": {
      "text/html": [
       "<i>Table length=12</i>\n",
       "<table id=\"table4470726104\" class=\"table-striped table-bordered table-condensed\">\n",
       "<thead><tr><th>sectorName</th><th>sector</th><th>camera</th><th>ccd</th></tr></thead>\n",
       "<thead><tr><th>str14</th><th>int64</th><th>int64</th><th>int64</th></tr></thead>\n",
       "<tr><td>tess-s0001-4-4</td><td>1</td><td>4</td><td>4</td></tr>\n",
       "<tr><td>tess-s0002-4-4</td><td>2</td><td>4</td><td>4</td></tr>\n",
       "<tr><td>tess-s0003-4-1</td><td>3</td><td>4</td><td>1</td></tr>\n",
       "<tr><td>tess-s0004-4-1</td><td>4</td><td>4</td><td>1</td></tr>\n",
       "<tr><td>tess-s0005-4-1</td><td>5</td><td>4</td><td>1</td></tr>\n",
       "<tr><td>tess-s0006-4-1</td><td>6</td><td>4</td><td>1</td></tr>\n",
       "<tr><td>tess-s0007-4-2</td><td>7</td><td>4</td><td>2</td></tr>\n",
       "<tr><td>tess-s0008-4-2</td><td>8</td><td>4</td><td>2</td></tr>\n",
       "<tr><td>tess-s0009-4-2</td><td>9</td><td>4</td><td>2</td></tr>\n",
       "<tr><td>tess-s0010-4-3</td><td>10</td><td>4</td><td>3</td></tr>\n",
       "<tr><td>tess-s0011-4-3</td><td>11</td><td>4</td><td>3</td></tr>\n",
       "<tr><td>tess-s0012-4-3</td><td>12</td><td>4</td><td>3</td></tr>\n",
       "</table>"
      ],
      "text/plain": [
       "<Table length=12>\n",
       "  sectorName   sector camera  ccd \n",
       "    str14      int64  int64  int64\n",
       "-------------- ------ ------ -----\n",
       "tess-s0001-4-4      1      4     4\n",
       "tess-s0002-4-4      2      4     4\n",
       "tess-s0003-4-1      3      4     1\n",
       "tess-s0004-4-1      4      4     1\n",
       "tess-s0005-4-1      5      4     1\n",
       "tess-s0006-4-1      6      4     1\n",
       "tess-s0007-4-2      7      4     2\n",
       "tess-s0008-4-2      8      4     2\n",
       "tess-s0009-4-2      9      4     2\n",
       "tess-s0010-4-3     10      4     3\n",
       "tess-s0011-4-3     11      4     3\n",
       "tess-s0012-4-3     12      4     3"
      ]
     },
     "execution_count": 11,
     "metadata": {},
     "output_type": "execute_result"
    }
   ],
   "source": [
    "Tesscut.get_sectors(obj_coord)"
   ]
  },
  {
   "cell_type": "code",
   "execution_count": 9,
   "metadata": {},
   "outputs": [],
   "source": [
    "cutout_hdu = Tesscut.get_cutouts(obj_coord, size=10)[-3]"
   ]
  },
  {
   "cell_type": "code",
   "execution_count": null,
   "metadata": {},
   "outputs": [],
   "source": [
    "cutout_hdu.info()"
   ]
  },
  {
   "cell_type": "code",
   "execution_count": null,
   "metadata": {},
   "outputs": [],
   "source": [
    "cutout_table = cutout_hdu[1].data\n",
    "cutout_table.columns"
   ]
  },
  {
   "cell_type": "code",
   "execution_count": null,
   "metadata": {},
   "outputs": [],
   "source": [
    "aa = cutout_table.FLUX\n",
    "tt = cutout_table.TIME\n",
    "\n",
    "bb = cutout_table.FLUX_ERR\n"
   ]
  },
  {
   "cell_type": "code",
   "execution_count": null,
   "metadata": {},
   "outputs": [],
   "source": [
    "bb.shape"
   ]
  },
  {
   "cell_type": "code",
   "execution_count": null,
   "metadata": {},
   "outputs": [],
   "source": [
    "bb"
   ]
  },
  {
   "cell_type": "code",
   "execution_count": null,
   "metadata": {},
   "outputs": [],
   "source": [
    "print(aa.shape)\n",
    "\n",
    "ff1 = np.sum(aa[:,3:6,3], axis = 1)\n",
    "ff2 = np.sum(aa[:,3:6,4], axis = 1)\n",
    "ff3 = np.sum(aa[:,3:6,5], axis = 1)\n",
    "\n",
    "bb1 = np.sum(bb[:,3:6,3], axis = 1)\n",
    "bb2 = np.sum(bb[:,3:6,4], axis = 1)\n",
    "bb3 = np.sum(bb[:,3:6,5], axis = 1)\n",
    "\n",
    "\n",
    "\n",
    "ff = ff1+ff2+ff3\n",
    "bb = bb1+bb2+bb3"
   ]
  },
  {
   "cell_type": "code",
   "execution_count": null,
   "metadata": {},
   "outputs": [],
   "source": [
    "plt.plot(tt, ff/np.nanmean(ff), 'k.')\n",
    "#plt.plot(tt, bb, 'r.')\n",
    "plt.xlim(1575, 1582)\n",
    "plt.ylim(0.65, 0.7)"
   ]
  },
  {
   "cell_type": "code",
   "execution_count": null,
   "metadata": {},
   "outputs": [],
   "source": [
    "bfig = plt.figure()\n",
    "bfig.circle(weird_lightcurve[\"TIME\"],weird_lightcurve[\"LC_DETREND\"], fill_color=\"black\",size=1, line_color=None)\n",
    "plt.show(bfig)"
   ]
  },
  {
   "cell_type": "code",
   "execution_count": null,
   "metadata": {
    "scrolled": false
   },
   "outputs": [],
   "source": [
    "def get_eleanor_data(tic_, sectors_):\n",
    "#    star = eleanor.Source(tic=tic_, sector=11, tc=True)\n",
    "    star = eleanor.multi_sectors(tic=tic_, sectors=sectors_, tc=True)\n",
    "\n",
    "#    plt.figure(figsize=(15,5))\n",
    "\n",
    "    time_eleanor = np.array([])\n",
    "    flux_eleanor_corr, flux_eleanor_psf = np.array([]), np.array([])\n",
    "    time = []\n",
    "    flux_corr, flux_psf = [], []\n",
    "    xcom, ycom = [], []\n",
    "\n",
    "    for i in range(len(star)):\n",
    "\n",
    "        data0 = eleanor.TargetData(star[i], height=15, width=15, bkg_size=31, do_psf=True, do_pca=False)#\n",
    "    #add \"crowded_field=True\" for 3x3 central pixels\n",
    "\n",
    "        q0 = data0.quality == 0#np.ones(len(data0.time), dtype = bool)\n",
    "\n",
    "#        plt.plot(data0.time[q0], data0.psf_flux[q0]/np.nanmedian(data0.psf_flux[q0]) + 0.00, 'k.-')\n",
    "        \n",
    "        time_eleanor = np.append(time_eleanor, data0.time[q0])\n",
    "        flux_eleanor_corr = np.append(flux_eleanor_corr, data0.corr_flux[q0]/np.nanmedian(data0.corr_flux[q0]))\n",
    "        flux_eleanor_psf = np.append(flux_eleanor_psf, data0.psf_flux[q0]/np.nanmedian(data0.psf_flux[q0]))\n",
    "        xcom, ycom = np.append(xcom, data0.x_com), np.append(ycom, data0.y_com)\n",
    "\n",
    "#    plt.ylabel('Normalized Flux', fontsize=24)\n",
    "#    plt.xlabel('Time', fontsize=24)\n",
    "#    plt.yticks(fontsize=18)\n",
    "#    plt.xticks(fontsize=18)\n",
    "#    plt.ylim(0.90, 1.03)\n",
    "\n",
    "#    plt.show()\n",
    "    return time_eleanor, flux_eleanor_corr, flux_eleanor_psf, xcom, ycom"
   ]
  },
  {
   "cell_type": "code",
   "execution_count": null,
   "metadata": {},
   "outputs": [],
   "source": [
    "time_eleanor, flux_eleanor_corr, flux_eleanor_psf, x_eleanor_com, y_eleanor_com = get_eleanor_data(tic_, sectors_LC)"
   ]
  },
  {
   "cell_type": "code",
   "execution_count": null,
   "metadata": {},
   "outputs": [],
   "source": [
    "def get_2min_data(tic, sectors_, detrending_, save_file):\n",
    "    \n",
    "    tt, ff, ee, qq = [], [], [], []\n",
    "\n",
    "    for ii in sectors_:        \n",
    "        try:\n",
    "            dvt, hdr = ar.getDvt(tic, ii, ext=planetNum, header=True)\n",
    "            flux = 1. + dvt['LC_DETREND']\n",
    "            flux_err = dvt['LC_INIT_ERR']\n",
    "            quality_flags = np.ones(len(flux))\n",
    "            print('LC_DETREND')\n",
    "        except:\n",
    "            dvt, hdr = ar.getLightcurve(tic, ii, ext=planetNum, header=True)\n",
    "            flux = dvt[detrending_]/np.nanmean(dvt[detrending_])\n",
    "            flux_err = dvt['SAP_FLUX_ERR']#/np.nanmean(dvt['SAP_FLUX'])\n",
    "            quality_flags = dvt['QUALITY']\n",
    "            print(detrending_)\n",
    "            \n",
    "        time = dvt['TIME']\n",
    "                \n",
    "        tt = np.hstack((tt, time))\n",
    "        ff = np.hstack((ff, flux))\n",
    "        ee = np.hstack((ee, flux_err))\n",
    "        qq = np.hstack((qq, quality_flags))\n",
    "\n",
    "#flags = np.isnan(ff)\n",
    "\n",
    "    if save_file == 'y':\n",
    "\n",
    "        with open(str(tic) + '_SC_S'+str(np.array(sectors_)[0]), mode = 'w') as txt:\n",
    "            txt_w = csv.writer(txt, delimiter = ' ')\n",
    "    \n",
    "#    for time, flux, err in zip(tt[~flags], ff[~flags], ee[~flags], qq[~flags]):\n",
    "            for time, flux, err, qual in zip(tt, ff, ee, qq):\n",
    "                txt_w.writerow([time, flux, err, qual])\n",
    "    return tt, ff, ee, qq"
   ]
  },
  {
   "cell_type": "code",
   "execution_count": null,
   "metadata": {},
   "outputs": [],
   "source": [
    "save_file = 'n'\n",
    "time_SC, flux_SC, flux_err_SC, quality_SC = get_2min_data(tic_, sectors_SC, detrending_, save_file)"
   ]
  },
  {
   "cell_type": "code",
   "execution_count": null,
   "metadata": {},
   "outputs": [],
   "source": [
    "import csv\n",
    "\n",
    "save_file_ = 'n'\n",
    "\n",
    "if save_file_ == 'y':\n",
    "    with open(str(tic_) + '_Eleanor_LC_S1to10', mode = 'w') as txt:\n",
    "        txt_w = csv.writer(txt, delimiter = ' ')\n",
    "        for time, flux in zip(time_eleanor, flux_eleanor):\n",
    "            txt_w.writerow([time, flux])"
   ]
  },
  {
   "cell_type": "code",
   "execution_count": null,
   "metadata": {},
   "outputs": [],
   "source": [
    "plt.figure(figsize=(15,5))\n",
    "plt.plot(time_SC, flux_SC, 'k.', label = 'SC')\n",
    "#plt.plot(time_eleanor, flux_eleanor_corr, 'b-', label = 'Corr')\n",
    "#plt.plot(time_eleanor, flux_eleanor_psf, 'r-', label = 'PSF')\n",
    "nn_ = 0\n",
    "plt.legend()\n",
    "#plt.xlim(tt_r[0]+nn_*5, tt_r[0]+5+nn_*5)\n",
    "#plt.xlim(1385, 1395)#1465, 1495.)\n",
    "#plt.ylim(0.7, 1.03)\n",
    "#plt.ylim(0.98, 1.02)"
   ]
  },
  {
   "cell_type": "code",
   "execution_count": null,
   "metadata": {},
   "outputs": [],
   "source": [
    "flux_SC.shape"
   ]
  },
  {
   "cell_type": "code",
   "execution_count": null,
   "metadata": {},
   "outputs": [],
   "source": [
    "#plt.plot(ycom)"
   ]
  },
  {
   "cell_type": "code",
   "execution_count": null,
   "metadata": {},
   "outputs": [],
   "source": [
    "#import lightkurve as lk\n",
    "#pixels = lk.search_targetpixelfile(\"TIC \" + str(tic)).download()"
   ]
  },
  {
   "cell_type": "code",
   "execution_count": null,
   "metadata": {},
   "outputs": [],
   "source": [
    "#lcTIC = LightCurve(time_eleanor, flux_eleanor)\n",
    "\n",
    "#b=lcTIC.remove_outliers(sigma=5).flatten().to_pandas()\n",
    "\n",
    "#time_detrend_ = np.asarray(b.time)\n",
    "#flux_detrend_ = np.asarray(b.flux)\n",
    "\n",
    "#t0 = min(time_detrend_)\n",
    "#time_detrend_-= min(time_detrend_)"
   ]
  },
  {
   "cell_type": "code",
   "execution_count": null,
   "metadata": {
    "scrolled": true
   },
   "outputs": [],
   "source": [
    "#for ii in range(len(time_detrend_)):\n",
    "#    print(t0+time_detrend_[ii], flux_detrend_[ii])"
   ]
  },
  {
   "cell_type": "code",
   "execution_count": null,
   "metadata": {},
   "outputs": [],
   "source": [
    "m = np.ones(len(flux_eleanor_psf), dtype=bool)\n",
    "\n",
    "#m = (time_detrend_ > 77.) & (time_detrend_ < 106.)\n",
    "#m = (time_detrend_ > 145.) & (time_detrend_ < 150.)\n",
    "#m = (time_detrend_ > 195.) & (time_detrend_ < 200.)\n",
    "#\n",
    "#m[(time_detrend_ > 67.) & (time_detrend_ < 70.)] = False\n",
    "#m[(time_detrend_ > 85.) & (time_detrend_ < 88.)] = False\n",
    "#m[(time_detrend_ > 155.) & (time_detrend_ < 162.)] = False\n",
    "\n",
    "#m[(time_detrend_ > 27.) & (time_detrend_ < 30.)] = False\n",
    "#m[(time_detrend_ > 42.) & (time_detrend_ < 45.)] = False\n",
    "#m[(time_detrend_ > 110.) & (time_detrend_ < 115.)] = False\n",
    "#m[(time_detrend_ > 165.) & (time_detrend_ < 167.)] = False\n",
    "#m[(time_detrend_ > 210.) & (time_detrend_ < 212.)] = False\n",
    "#m[(time_detrend_ > 267.) & (time_detrend_ < 275.)] = False\n",
    "#m[(time_detrend_ > 242.) & (time_detrend_ < 245.)] = False\n",
    "\n",
    "time_detrend_ = time_eleanor[m]\n",
    "flux_detrend_ = flux_eleanor_psf[m]"
   ]
  },
  {
   "cell_type": "code",
   "execution_count": null,
   "metadata": {},
   "outputs": [],
   "source": [
    "fig = plt.subplots(figsize=(20, 5))\n",
    "plt.plot(time_detrend_, flux_detrend_, 'k.-')\n",
    "#plt.xlim(200., 250.)"
   ]
  },
  {
   "cell_type": "code",
   "execution_count": null,
   "metadata": {},
   "outputs": [],
   "source": [
    "# DETREND DATA\n",
    "\n",
    "def detrend_data_(time, flux, do_plot_, n_points_):\n",
    "    x = time\n",
    "    y = flux/np.nanmedian(flux)\n",
    "    mu = np.median(y)\n",
    "    y = (y / mu - 1)# * 1e3\n",
    "\n",
    "# Identify outliers\n",
    "    m = np.ones(len(y), dtype=bool)\n",
    "    \n",
    "    for i in range(10):\n",
    "        y_prime = np.interp(x, x[m], y[m])\n",
    "        smooth = savgol_filter(y_prime, n_points_, polyorder=3)\n",
    "        resid = y - smooth\n",
    "        sigma = np.sqrt(np.mean(resid**2))\n",
    "        m0 = np.abs(resid) < 3*sigma\n",
    "        if m.sum() == m0.sum():\n",
    "            m = m0\n",
    "            break\n",
    "        m = m0\n",
    "    \n",
    "    m = (resid < 5*sigma) & (resid > -5*sigma)\n",
    "    m[(x >= 1353) & (x <= 1354)] = False\n",
    "    m[(x >= 1422) & (x <= 1424)] = False\n",
    "    m[(x >= 1463) & (x <= 1465)] = False\n",
    "#\n",
    "# Shift the data so that it starts at t=0. This tends to make the fit\n",
    "# better behaved since t0 covaries with period.\n",
    "#    print(min(x), min(x[m]))\n",
    "    x_ref = np.min(x[m])# if sector != 3 else np.min(x)\n",
    "#    x -= x_ref\n",
    "\n",
    "# Make sure that the data type is consistent\n",
    "    x_bak_, y_bak_ = x, y\n",
    "    x = np.ascontiguousarray(x[m], dtype=np.float64)\n",
    "    y = np.ascontiguousarray(y[m], dtype=np.float64)\n",
    "    smooth = np.ascontiguousarray(smooth[m], dtype=np.float64)\n",
    "\n",
    "    x_detrend_ = x\n",
    "    y_detrend_ = y - smooth\n",
    "    \n",
    "#    do_plot_= 'y'\n",
    "    if do_plot_ == 'y':\n",
    "        plt.figure(figsize=(20,5))\n",
    "    \n",
    "# Plot the data\n",
    "#        plt.subplot(211)\n",
    "        plt.plot(x_bak_+0*x_ref, y_bak_, \"k\", label=\"raw data\")\n",
    "        plt.plot(x+0*x_ref, smooth, lw = 3., label = 'sav-gol filter')\n",
    "        plt.plot(x_bak_[~m]+0*x_ref, y_bak_[~m], \"xr\", label=\"outliers\")\n",
    "        plt.legend(fontsize=12)\n",
    "        plt.xlim(x_bak_.min(), x_bak_.max())\n",
    "        plt.yticks([])\n",
    "        plt.xlabel(\"time\")\n",
    "#        plt.ylabel(\"flux\")\n",
    "#        plt.ylim(-25., 25.)\n",
    "        \n",
    "#        plt.subplot(212)\n",
    "#        plt.plot(x_detrend_, y_detrend_, \"k\", label=\"data\")\n",
    "#        plt.legend(fontsize=12)\n",
    "#        plt.xlim(x_detrend_.min(), x_detrend_.max())\n",
    "#        plt.xlabel(\"time\")\n",
    "#        plt.ylabel(\"flux\")\n",
    "        plt.show()\n",
    "    \n",
    "    return x_detrend_, y_detrend_, x_ref, x_bak_, y_bak_, smooth, m"
   ]
  },
  {
   "cell_type": "code",
   "execution_count": null,
   "metadata": {},
   "outputs": [],
   "source": [
    "#RUN BLS\n",
    "def run_bls_(x, y, tic, do_plot_, min_period, max_period_):\n",
    "        \n",
    "    x_ref = min(x)\n",
    "    x -= min(x)\n",
    "    \n",
    "    period_grid = np.exp(np.linspace(np.log(min_period), np.log(max_period_), 50000))\n",
    "    durations_ = 0.1+0.05*np.linspace(0,3,4)#0.02+0.02*np.linspace(0,11,12)#0.02+0.02*np.linspace(0,11,12)\n",
    "    bls_results = []\n",
    "    periods = []\n",
    "    t0s = []\n",
    "    depths = []\n",
    "    durations = []\n",
    "\n",
    "    # Compute the periodogram for each planet by iteratively masking out\n",
    "    # transits from the higher signal to noise planets. Here we're assuming\n",
    "    # that we know that there are exactly two planets.\n",
    "    for i in range(1):\n",
    "        bls = BoxLeastSquares(x, y)\n",
    "        bls_power = bls.power(period_grid, durations_, oversample=20)\n",
    "        bls_results.append(bls_power)\n",
    "    \n",
    "    # Save the highest peak as the planet candidate\n",
    "        index = np.argmax(bls_power.power)\n",
    "        periods.append(bls_power.period[index])\n",
    "        t0s.append(bls_power.transit_time[index])\n",
    "        depths.append(bls_power.depth[index])\n",
    "        durations.append(bls_power.duration[index])\n",
    "        \n",
    "    # Mask the data points that are in transit for this candidate\n",
    "        m = np.zeros(len(x), dtype=bool)\n",
    "        m |= bls.transit_mask(x, periods[-1], 0.5, t0s[-1])\n",
    "        \n",
    "    # PLOT RESULTS   \n",
    "\n",
    "    if do_plot_ == 'y':\n",
    "\n",
    "        fig, axes = plt.subplots(len(bls_results), 2, figsize=(20, 10))\n",
    "        \n",
    "        for i in range(len(bls_results)):\n",
    "    # Plot the lightcurve\n",
    "            plt.subplot(2,3,(1,3))\n",
    "            plt.plot(x+x_ref, y, 'k-')\n",
    "            plt.title('detrended TESS lightcurve')\n",
    "#            plt.ylabel('[ppt]')\n",
    "            plt.xlim((x + x_ref).min(), (x + x_ref).max())\n",
    "            plt.yticks([])\n",
    "    # Plot the periodogram \n",
    "            plt.subplot(234)\n",
    "            plt.plot(np.log10(bls_results[i].period), bls_results[i].power, \"k\")\n",
    "#            plt.title('BLS periodogram')\n",
    "            plt.yticks([])\n",
    "    # Plot the folded transit (folded on the full period)            \n",
    "            plt.subplot(235)\n",
    "            p = periods[i]\n",
    "            x_fold = (x - t0s[i] + 0.5*p) % p - 0.5*p\n",
    "            m = np.abs(x_fold) < p\n",
    "            plt.plot(x_fold[m], y[m], \".k\")  \n",
    "            inds = np.argsort(x_fold[m])\n",
    "    # Overplot the box           \n",
    "            plt.plot(x_fold[m][inds], bls.model(x, p, durations[i], t0s[i])[m][inds], 'C1',lw = 2)\n",
    "#            plt.ylim(-10.*depths[0],5*depths[0])\n",
    "            plt.xlabel('Phase [days]')\n",
    "#\n",
    "#\n",
    "    # Plot the folded transit (folded on 1-day)   \n",
    "            plt.subplot(236)\n",
    "            p = periods[i]\n",
    "            x_fold = (x - t0s[i] + 0.5*p) % p - 0.5*p\n",
    "            m = np.abs(x_fold) < 1.0 \n",
    "            plt.plot(x_fold[m], y[m], \".k\")  \n",
    "            inds = np.argsort(x_fold[m])\n",
    "    # Overplot the box           \n",
    "            plt.plot(x_fold[m][inds], bls.model(x, p, durations[i], t0s[i])[m][inds], 'C1',lw = 2)\n",
    "    # Overplot the phase binned light curve\n",
    "            bins = np.linspace(-1., 1., 32)#\n",
    "            denom, _ = np.histogram(x_fold, bins)\n",
    "            num, _ = np.histogram(x_fold, bins, weights=y)\n",
    "            denom[num == 0] = 1.0\n",
    "#            plt.plot(0.5*(bins[1:] + bins[:-1]), num / denom, color=\"c\", lw = 1)\n",
    "            plt.title('TIC ' + str(tic) + \"; P =\" + str(np.round(p,2)) + \"; to =\" + str(round(x_ref+t0s[0],2)))\n",
    "            plt.xlabel('Phase [days]')\n",
    "#            plt.ylim(-10.*depths[0],5*depths[0])\n",
    "        \n",
    "            plt.show()\n",
    "#        plt.savefig(\"/Users/vkostov/Desktop/Ideas_etc/TESS/tesseract/ryan_LCs/pngs/\" + str(tic) + \".png\")\n",
    "#        plt.close()\n",
    "\n",
    "    return bls_power"
   ]
  },
  {
   "cell_type": "code",
   "execution_count": null,
   "metadata": {},
   "outputs": [],
   "source": [
    "flags = np.isfinite(flux_SC)\n",
    "\n",
    "detrend_ = 'n'\n",
    "\n",
    "if detrend_ == 'y':\n",
    "    do_plot_ = 'y'\n",
    "    n_points_ = 1221\n",
    "    time_detrend_, flux_detrend_, x_ref, x_bak_, y_bak_, smooth, m = \\\n",
    "    detrend_data_(time_SC[flags], flux_SC[flags], do_plot_, n_points_)\n",
    "    time_detrend_ = time_detrend_# + x_ref\n",
    "else:\n",
    "    time_detrend_, flux_detrend_ = time_SC[flags], flux_SC[flags]"
   ]
  },
  {
   "cell_type": "code",
   "execution_count": null,
   "metadata": {},
   "outputs": [],
   "source": [
    "fig = plt.subplots(figsize=(20, 5))\n",
    "plt.plot(time_detrend_, flux_detrend_, 'k.-')\n",
    "#plt.xlim(1370., 1400)"
   ]
  },
  {
   "cell_type": "code",
   "execution_count": null,
   "metadata": {},
   "outputs": [],
   "source": [
    "min_period = 5.#30.\n",
    "max_period = 25.#round(0.8*(max(time_detrend) - min(time_detrend)))\n",
    "\n",
    "do_plot_ = 'y'\n",
    "bls_results = run_bls_(time_detrend_, flux_detrend_, tic_, do_plot_, min_period, max_period)\n",
    "dur_ = 24*bls_results.duration[np.argmax(bls_results.power)]\n",
    "dep_ = bls_results.depth[np.argmax(bls_results.power)]\n",
    "print(tic_,\n",
    "      np.round(bls_results.period[np.argmax(bls_results.power)],2),\n",
    "      np.round(time_detrend_[0] + bls_results.transit_time[np.argmax(bls_results.power)],4),\n",
    "      \"%.2f\" % dur_,\n",
    "      int(np.round(bls_results.depth[np.argmax(bls_results.power)],0)))"
   ]
  },
  {
   "cell_type": "code",
   "execution_count": null,
   "metadata": {},
   "outputs": [],
   "source": [
    "#idx_SC = np.where((time_SC >= 1482.) & (time_SC <= 1487.))\n",
    "#time_SC[idx_SC]"
   ]
  },
  {
   "cell_type": "code",
   "execution_count": null,
   "metadata": {},
   "outputs": [],
   "source": [
    "fig = plt.subplots(figsize=(20, 3))\n",
    "\n",
    "grid = plt.GridSpec(2, 3, wspace=0.4, hspace=0.3)\n",
    "\n",
    "plt.subplot(141)\n",
    "\n",
    "idx_LC = np.where((time_eleanor >= 1386.8) & (time_eleanor <= 1391.8))\n",
    "do_plot_ = 'n'\n",
    "n_points_ = 121\n",
    "time_detrend_, flux_detrend_, x_ref, x_bak_, y_bak_, smooth, m = \\\n",
    "    detrend_data_(time_eleanor[idx_LC], flux_eleanor_psf[idx_LC]/np.nanmedian(flux_eleanor_psf[idx_LC]), do_plot_, n_points_)\n",
    "plt.plot(time_detrend_, 1.+flux_detrend_, 'k-')\n",
    "plt.axvspan(1391.27-0.2, 1391.27+0.2, alpha=0.25, color='g')\n",
    "plt.xlim(1386.8, 1391.8)\n",
    "plt.ylim(0.99,1.01)\n",
    "\n",
    "plt.subplot(142)\n",
    "idx_SC = np.where((time_SC >= 1482) & (time_SC <= 1487))\n",
    "plt.plot(time_SC[idx_SC], flux_SC[idx_SC]/np.nanmedian(flux_SC[idx_SC]), 'k-', alpha = 0.5)\n",
    "idx_LC = np.where((time_eleanor >= 1482) & (time_eleanor <= 1487))\n",
    "time_detrend_, flux_detrend_, x_ref, x_bak_, y_bak_, smooth, m = \\\n",
    "    detrend_data_(time_eleanor[idx_LC], flux_eleanor_psf[idx_LC]/np.nanmedian(flux_eleanor_psf[idx_LC]), do_plot_, n_points_)\n",
    "plt.plot(time_detrend_, 1.+flux_detrend_, 'k-')\n",
    "plt.axvspan(1483.8, 1484.02, alpha=0.25, color='g')\n",
    "plt.yticks([])\n",
    "plt.xlim(1482, 1487)\n",
    "plt.ylim(0.99,1.01)\n",
    "\n",
    "plt.subplot(143)\n",
    "idx_SC = np.where((time_SC >= 1575) & (time_SC <= 1580))\n",
    "plt.plot(time_SC[idx_SC], flux_SC[idx_SC]/np.nanmedian(flux_SC[idx_SC]), 'k-', alpha = 0.5)\n",
    "idx_LC = np.where((time_eleanor >= 1575) & (time_eleanor <= 1580))\n",
    "time_detrend_, flux_detrend_, x_ref, x_bak_, y_bak_, smooth, m = \\\n",
    "    detrend_data_(time_eleanor[idx_LC], flux_eleanor_psf[idx_LC]/np.nanmedian(flux_eleanor_psf[idx_LC]), do_plot_, n_points_)\n",
    "plt.plot(time_detrend_, 1.+flux_detrend_, 'k-')\n",
    "plt.axvspan(1579.05-0.25, 1579.05+0.25, alpha=0.25, color='g')\n",
    "plt.yticks([])\n",
    "plt.xlim(1575., 1580)\n",
    "plt.ylim(0.99,1.01)\n",
    "\n",
    "plt.subplot(144)\n",
    "idx_SC = np.where((time_SC >= 1670) & (time_SC <= 1675))\n",
    "plt.plot(time_SC[idx_SC], flux_SC[idx_SC]/np.nanmedian(flux_SC[idx_SC]), 'k-', alpha = 0.5)\n",
    "idx_LC = np.where((time_eleanor >= 1670) & (time_eleanor <= 1675))\n",
    "plt.plot(time_eleanor[idx_LC], flux_eleanor_psf[idx_LC]/np.nanmedian(flux_eleanor_psf[idx_LC]), 'k.-')\n",
    "plt.yticks([])\n",
    "plt.xlim(1670, 1675)\n",
    "plt.ylim(0.99,1.01)"
   ]
  },
  {
   "cell_type": "code",
   "execution_count": null,
   "metadata": {
    "scrolled": false
   },
   "outputs": [],
   "source": [
    "#do_plot_ = 'y'\n",
    "#min_period = 1.\n",
    "#max_period = int((0.8*(max(time_detrend_) - min(time_detrend_))))\n",
    "#bls_results = run_bls_(time_detrend_, flux_detrend_, tic_, do_plot_, min_period, max_period)"
   ]
  },
  {
   "cell_type": "code",
   "execution_count": null,
   "metadata": {},
   "outputs": [],
   "source": [
    "index = np.argmax(bls_results.power)\n",
    "\n",
    "per_ = bls_results.period[index]\n",
    "\n",
    "per_"
   ]
  },
  {
   "cell_type": "code",
   "execution_count": null,
   "metadata": {
    "scrolled": false
   },
   "outputs": [],
   "source": [
    "nn = 0\n",
    "\n",
    "#time_detrend_, flux_detrend_ = data0.time[q0], data0.psf_flux[q0]/np.nanmedian(data0.psf_flux[q0])\n",
    "\n",
    "per_ = 14.60859501\n",
    "t0 = x_ref#time_detrend_[0]\n",
    "\n",
    "\n",
    "n_plots_ = int(max(time_detrend_)/per_)\n",
    "n_plots_ = 25\n",
    "fig = plt.subplots(figsize=(20, 50))\n",
    "for ii in range(n_plots_):\n",
    "\n",
    "    plt.subplot(n_plots_,1,ii+1)\n",
    "    \n",
    "    plt.plot(time_detrend_+x_ref, 1.+flux_detrend_, 'k.-')\n",
    "\n",
    "    plt.xlim(t0+(ii-nn)*per_,t0+(ii+nn+1)*per_)\n",
    "    plt.ylim(0.995,1.005)\n",
    "    \n",
    "#plt.savefig('tmp_.png')"
   ]
  },
  {
   "cell_type": "code",
   "execution_count": null,
   "metadata": {},
   "outputs": [],
   "source": [
    "fig = plt.subplots(figsize=(20, 5))\n",
    "flags = np.isfinite(flux_detrend_)\n",
    "tt_, ff_ = time_detrend_[flags], flux_detrend_[flags]\n",
    "plt.plot(tt_, ff_)"
   ]
  },
  {
   "cell_type": "code",
   "execution_count": null,
   "metadata": {},
   "outputs": [],
   "source": [
    "do_TB_bls_ = 'y'\n",
    "\n",
    "if do_TB_bls_ == 'y':\n",
    "\n",
    "    flags = np.isfinite(flux_detrend_)\n",
    "    tt_, ff_ = time_detrend_[flags], flux_detrend_[flags]\n",
    "\n",
    "    period_grid = np.exp(np.linspace(np.log(5.), np.log(25), 50000))\n",
    "    duration = 0.1+0.05*np.linspace(0,3,4)\n",
    "\n",
    "    n_planets_ = 2\n",
    "    bls_periods = np.zeros([n_planets_])\n",
    "    bls_t0s = np.zeros([n_planets_])\n",
    "    bls_depths = np.zeros([n_planets_])\n",
    "    bls_durations = np.zeros([n_planets_])\n",
    "\n",
    "    \n",
    "    for ii in range(n_planets_):\n",
    "# planet 1\n",
    "        if ii == 0:\n",
    "            bls = BoxLeastSquares(tt_, ff_)\n",
    "            bls_power = bls.power(period_grid, duration, oversample=20)\n",
    "\n",
    "            bls_power0 = bls_power\n",
    "\n",
    "# Save the highest peak as the planet candidate\n",
    "            index = np.argmax(bls_power.power)\n",
    "            bls_period = bls_power.period[index]\n",
    "            bls_t0 = bls_power.transit_time[index]\n",
    "            bls_depth = bls_power.depth[index]\n",
    "            bls_duration = bls_power.duration[index]\n",
    "            transit_mask = bls.transit_mask(tt_, bls_period, 3*bls_duration, bls_t0)\n",
    "\n",
    "# planet 2\n",
    "        else:\n",
    "            bls = BoxLeastSquares(tt_[~transit_mask], ff_[~transit_mask])\n",
    "            bls_power = bls.power(period_grid, duration, oversample=20)\n",
    "\n",
    "# Save the highest peak as the planet candidate\n",
    "            index = np.argmax(bls_power.power)\n",
    "            bls_period = bls_power.period[index]\n",
    "            bls_t0 = bls_power.transit_time[index]\n",
    "            bls_depth = bls_power.depth[index]\n",
    "            bls_duration = bls_power.duration[index]\n",
    "            transit_mask = bls.transit_mask(tt_, bls_period, 3*bls_duration, bls_t0)\n",
    "\n",
    "        bls_periods[ii] = bls_period\n",
    "        bls_t0s[ii] = bls_t0\n",
    "        bls_depths[ii] = bls_depth\n",
    "        bls_durations[ii] = bls_duration"
   ]
  },
  {
   "cell_type": "code",
   "execution_count": null,
   "metadata": {},
   "outputs": [],
   "source": [
    "bls_periods"
   ]
  },
  {
   "cell_type": "code",
   "execution_count": null,
   "metadata": {},
   "outputs": [],
   "source": [
    "if do_TB_bls_ == 'y':\n",
    "\n",
    "    fig, axes = plt.subplots(3, 1, figsize=(10, 10))\n",
    "\n",
    "# Plot the periodogram\n",
    "    ax = axes[0]\n",
    "    \n",
    "    for ii in range(n_planets_):\n",
    "        ax.axvline(np.log10(bls_periods[ii]), color=\"C1\", lw=5, alpha=0.8)\n",
    "#    ax.axvline(np.log10(bls_periods[1]), color=\"C1\", lw=5, alpha=0.8)\n",
    "#    ax.axvline(np.log10(bls_periods[2]), color=\"C1\", lw=5, alpha=0.8)\n",
    "#    ax.axvline(np.log10(bls_periods[3]), color=\"C1\", lw=5, alpha=0.8)\n",
    "    ax.plot(np.log10(bls_power0.period), bls_power0.power, \"k\")\n",
    "#    ax.annotate(\"periods = {0:.4f}, {1:.4f}, {2:.4f}, {3:.4f} d\".format(*bls_periods),\n",
    "#                (0, 1), xycoords=\"axes fraction\",\n",
    "#                xytext=(5, -5), textcoords=\"offset points\",\n",
    "#                va=\"top\", ha=\"left\", fontsize=12)\n",
    "    ax.set_ylabel(\"bls power\")\n",
    "    ax.set_yticks([])\n",
    "    ax.set_xlim(np.log10(period_grid.min()), np.log10(period_grid.max()))\n",
    "    ax.set_xlabel(\"log10(period)\")\n",
    "\n",
    "# Plot the folded transits\n",
    "    for i in range(n_planets_):\n",
    "        ax = axes[i+1]\n",
    "        x_fold = (tt_ - bls_t0s[i] + 0.5*bls_periods[i])%bls_periods[i] - 0.5*bls_periods[i]\n",
    "        m = np.abs(x_fold) < 0.4\n",
    "        ax.plot(x_fold[m], ff_[m], \".k\")\n",
    "        inds = np.argsort(x_fold[m])\n",
    "        ax.plot(x_fold[m][inds], bls.model(tt_[m], bls_periods[i], bls_durations[i], bls_t0s[i])[inds])\n",
    "\n",
    "    # Overplot the phase binned light curve\n",
    "        bins = np.linspace(-0.11, 0.11, 52)\n",
    "        denom, _ = np.histogram(x_fold, bins)\n",
    "        num, _ = np.histogram(x_fold, bins, weights=ff_)\n",
    "        denom[num == 0] = 1.0\n",
    "        ax.plot(0.5*(bins[1:] + bins[:-1]), num / denom, color=\"C1\")\n",
    "\n",
    "        ax.set_xlim(-0.5, 0.5)\n",
    "        ax.set_ylabel(\"de-trended flux [ppt]\")\n",
    "        ax.set_xlabel(\"time since transit\");"
   ]
  },
  {
   "cell_type": "code",
   "execution_count": null,
   "metadata": {},
   "outputs": [],
   "source": []
  }
 ],
 "metadata": {
  "kernelspec": {
   "display_name": "Python 3",
   "language": "python",
   "name": "python3"
  },
  "language_info": {
   "codemirror_mode": {
    "name": "ipython",
    "version": 3
   },
   "file_extension": ".py",
   "mimetype": "text/x-python",
   "name": "python",
   "nbconvert_exporter": "python",
   "pygments_lexer": "ipython3",
   "version": "3.7.3"
  }
 },
 "nbformat": 4,
 "nbformat_minor": 2
}
